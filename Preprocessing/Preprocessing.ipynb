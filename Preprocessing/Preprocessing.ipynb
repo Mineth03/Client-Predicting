{
 "cells": [
  {
   "cell_type": "markdown",
   "metadata": {},
   "source": [
    "# Seperate Columns"
   ]
  },
  {
   "cell_type": "code",
   "execution_count": null,
   "metadata": {
    "vscode": {
     "languageId": "plaintext"
    }
   },
   "outputs": [],
   "source": [
    "import pandas as pd\n",
    "from google.colab import files\n",
    "\n",
    "file_path = 'RawDataset.csv'\n",
    "data = pd.read_csv(file_path, delimiter=';')\n",
    "\n",
    "output_path = 'CleanedDataset.csv'\n",
    "data.to_csv(output_path, index=False)\n",
    "\n",
    "print(data.head())\n",
    "files.download(output_path)"
   ]
  }
 ],
 "metadata": {
  "language_info": {
   "name": "python"
  }
 },
 "nbformat": 4,
 "nbformat_minor": 2
}
