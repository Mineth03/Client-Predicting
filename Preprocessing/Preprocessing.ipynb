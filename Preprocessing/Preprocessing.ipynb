{
 "cells": [
  {
   "cell_type": "markdown",
   "metadata": {},
   "source": [
    "# Seperate Columns"
   ]
  },
  {
   "cell_type": "code",
   "execution_count": null,
   "metadata": {
    "vscode": {
     "languageId": "plaintext"
    }
   },
   "outputs": [],
   "source": [
    "import pandas as pd\n",
    "from google.colab import files\n",
    "\n",
    "file_path = 'RawDataset.csv'\n",
    "data = pd.read_csv(file_path, delimiter=';')\n",
    "\n",
    "output_path = 'CleanedDataset.csv'\n",
    "data.to_csv(output_path, index=False)\n",
    "\n",
    "print(data.head())\n",
    "files.download(output_path)"
   ]
  },
  {
   "cell_type": "markdown",
   "metadata": {},
   "source": [
    "# Find Null Values"
   ]
  },
  {
   "cell_type": "code",
   "execution_count": null,
   "metadata": {
    "vscode": {
     "languageId": "plaintext"
    }
   },
   "outputs": [],
   "source": [
    "import pandas as pd\n",
    "\n",
    "data = pd.read_csv('CleanedDataset.csv')\n",
    "\n",
    "# Check for null values \n",
    "nullValues = data.isnull().sum()\n",
    "# Display columns with null values\n",
    "print(\"Null values in each column:\")\n",
    "print(nullValues)"
   ]
  },
  {
   "cell_type": "markdown",
   "metadata": {},
   "source": [
    "# Feature importance"
   ]
  },
  {
   "cell_type": "code",
   "execution_count": null,
   "metadata": {
    "vscode": {
     "languageId": "plaintext"
    }
   },
   "outputs": [],
   "source": [
    "import numpy as np\n",
    "import pandas as pd\n",
    "import matplotlib.pyplot as plt\n",
    "from sklearn.ensemble import RandomForestClassifier\n",
    "from sklearn.preprocessing import LabelEncoder\n",
    "from sklearn.model_selection import train_test_split\n",
    "\n",
    "file_path = 'CleanedDataset.csv'\n",
    "data = pd.read_csv(file_path)\n",
    "\n",
    "# Do a simple encoding to train a random forest\n",
    "label_encoders = {}\n",
    "data_encoded = data.copy()\n",
    "for col in data.select_dtypes(include=['object']).columns:\n",
    "    le = LabelEncoder()\n",
    "    data_encoded[col] = le.fit_transform(data[col])\n",
    "    label_encoders[col] = le\n",
    "\n",
    "X = data_encoded.drop(columns=['y'])\n",
    "y = data_encoded['y']\n",
    "X_train, X_test, y_train, y_test = train_test_split(X, y, test_size=0.2, random_state=42)\n",
    "\n",
    "# Train a simple model to get feature importance\n",
    "rf = RandomForestClassifier(random_state=42)\n",
    "rf.fit(X_train, y_train)\n",
    "# Get feature importances\n",
    "importances = rf.feature_importances_\n",
    "features = X.columns\n",
    "# Sort features \n",
    "indices = np.argsort(importances)[::-1]\n",
    "features_sorted = features[indices]\n",
    "importances_sorted = importances[indices]\n",
    "\n",
    "# Display\n",
    "plt.figure(figsize=(10, 8))\n",
    "plt.barh(features_sorted, importances_sorted, color='purple')\n",
    "plt.xlabel('Feature Importance', fontsize=12)\n",
    "plt.ylabel('Features', fontsize=12)\n",
    "plt.title('Feature Importance for Predicting y', fontsize=14)\n",
    "plt.gca().invert_yaxis()\n",
    "plt.show()"
   ]
  }
 ],
 "metadata": {
  "language_info": {
   "name": "python"
  }
 },
 "nbformat": 4,
 "nbformat_minor": 2
}
