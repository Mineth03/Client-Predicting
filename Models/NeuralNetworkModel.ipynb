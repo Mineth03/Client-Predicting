{
  "nbformat": 4,
  "nbformat_minor": 0,
  "metadata": {
    "colab": {
      "provenance": [],
      "authorship_tag": "ABX9TyO/7+SqOj8HuyI7DvajskNL",
      "include_colab_link": true
    },
    "kernelspec": {
      "name": "python3",
      "display_name": "Python 3"
    },
    "language_info": {
      "name": "python"
    }
  },
  "cells": [
    {
      "cell_type": "markdown",
      "metadata": {
        "id": "view-in-github",
        "colab_type": "text"
      },
      "source": [
        "<a href=\"https://colab.research.google.com/github/Mineth03/Client-Predicting/blob/Model_Neural_Network/Models/NeuralNetworkModel.ipynb\" target=\"_parent\"><img src=\"https://colab.research.google.com/assets/colab-badge.svg\" alt=\"Open In Colab\"/></a>"
      ]
    },
    {
      "cell_type": "code",
      "execution_count": 3,
      "metadata": {
        "colab": {
          "base_uri": "https://localhost:8080/",
          "height": 1000
        },
        "id": "gMHSbepbLA00",
        "outputId": "b122cf96-fdd7-4440-e8af-3b1da1726d74"
      },
      "outputs": [
        {
          "output_type": "stream",
          "name": "stderr",
          "text": [
            "/usr/local/lib/python3.10/dist-packages/sklearn/base.py:474: FutureWarning: `BaseEstimator._validate_data` is deprecated in 1.6 and will be removed in 1.7. Use `sklearn.utils.validation.validate_data` instead. This function becomes public and is part of the scikit-learn developer API.\n",
            "  warnings.warn(\n",
            "/usr/local/lib/python3.10/dist-packages/sklearn/utils/_tags.py:354: FutureWarning: The SMOTE or classes from which it inherits use `_get_tags` and `_more_tags`. Please define the `__sklearn_tags__` method, or inherit from `sklearn.base.BaseEstimator` and/or other appropriate mixins such as `sklearn.base.TransformerMixin`, `sklearn.base.ClassifierMixin`, `sklearn.base.RegressorMixin`, and `sklearn.base.OutlierMixin`. From scikit-learn 1.7, not defining `__sklearn_tags__` will raise an error.\n",
            "  warnings.warn(\n"
          ]
        },
        {
          "output_type": "stream",
          "name": "stdout",
          "text": [
            "Epoch 1/20\n"
          ]
        },
        {
          "output_type": "stream",
          "name": "stderr",
          "text": [
            "/usr/local/lib/python3.10/dist-packages/keras/src/layers/core/dense.py:87: UserWarning: Do not pass an `input_shape`/`input_dim` argument to a layer. When using Sequential models, prefer using an `Input(shape)` object as the first layer in the model instead.\n",
            "  super().__init__(activity_regularizer=activity_regularizer, **kwargs)\n",
            "/usr/local/lib/python3.10/dist-packages/keras/src/layers/activations/leaky_relu.py:41: UserWarning: Argument `alpha` is deprecated. Use `negative_slope` instead.\n",
            "  warnings.warn(\n"
          ]
        },
        {
          "output_type": "stream",
          "name": "stdout",
          "text": [
            "\u001b[1m1716/1716\u001b[0m \u001b[32m━━━━━━━━━━━━━━━━━━━━\u001b[0m\u001b[37m\u001b[0m \u001b[1m11s\u001b[0m 4ms/step - accuracy: 0.7767 - loss: 0.4809 - val_accuracy: 0.8659 - val_loss: 0.3183\n",
            "Epoch 2/20\n",
            "\u001b[1m1716/1716\u001b[0m \u001b[32m━━━━━━━━━━━━━━━━━━━━\u001b[0m\u001b[37m\u001b[0m \u001b[1m8s\u001b[0m 4ms/step - accuracy: 0.8597 - loss: 0.3445 - val_accuracy: 0.8646 - val_loss: 0.3128\n",
            "Epoch 3/20\n",
            "\u001b[1m1716/1716\u001b[0m \u001b[32m━━━━━━━━━━━━━━━━━━━━\u001b[0m\u001b[37m\u001b[0m \u001b[1m7s\u001b[0m 4ms/step - accuracy: 0.8615 - loss: 0.3347 - val_accuracy: 0.8685 - val_loss: 0.3089\n",
            "Epoch 4/20\n",
            "\u001b[1m1716/1716\u001b[0m \u001b[32m━━━━━━━━━━━━━━━━━━━━\u001b[0m\u001b[37m\u001b[0m \u001b[1m11s\u001b[0m 4ms/step - accuracy: 0.8649 - loss: 0.3308 - val_accuracy: 0.8721 - val_loss: 0.3053\n",
            "Epoch 5/20\n",
            "\u001b[1m1716/1716\u001b[0m \u001b[32m━━━━━━━━━━━━━━━━━━━━\u001b[0m\u001b[37m\u001b[0m \u001b[1m10s\u001b[0m 4ms/step - accuracy: 0.8678 - loss: 0.3235 - val_accuracy: 0.8705 - val_loss: 0.3043\n",
            "Epoch 6/20\n",
            "\u001b[1m1716/1716\u001b[0m \u001b[32m━━━━━━━━━━━━━━━━━━━━\u001b[0m\u001b[37m\u001b[0m \u001b[1m9s\u001b[0m 4ms/step - accuracy: 0.8677 - loss: 0.3214 - val_accuracy: 0.8730 - val_loss: 0.3037\n",
            "Epoch 7/20\n",
            "\u001b[1m1716/1716\u001b[0m \u001b[32m━━━━━━━━━━━━━━━━━━━━\u001b[0m\u001b[37m\u001b[0m \u001b[1m11s\u001b[0m 4ms/step - accuracy: 0.8676 - loss: 0.3218 - val_accuracy: 0.8728 - val_loss: 0.3002\n",
            "Epoch 8/20\n",
            "\u001b[1m1716/1716\u001b[0m \u001b[32m━━━━━━━━━━━━━━━━━━━━\u001b[0m\u001b[37m\u001b[0m \u001b[1m11s\u001b[0m 4ms/step - accuracy: 0.8672 - loss: 0.3196 - val_accuracy: 0.8763 - val_loss: 0.2991\n",
            "Epoch 9/20\n",
            "\u001b[1m1716/1716\u001b[0m \u001b[32m━━━━━━━━━━━━━━━━━━━━\u001b[0m\u001b[37m\u001b[0m \u001b[1m7s\u001b[0m 4ms/step - accuracy: 0.8691 - loss: 0.3154 - val_accuracy: 0.8771 - val_loss: 0.2979\n",
            "Epoch 10/20\n",
            "\u001b[1m1716/1716\u001b[0m \u001b[32m━━━━━━━━━━━━━━━━━━━━\u001b[0m\u001b[37m\u001b[0m \u001b[1m10s\u001b[0m 4ms/step - accuracy: 0.8703 - loss: 0.3159 - val_accuracy: 0.8754 - val_loss: 0.2974\n",
            "Epoch 11/20\n",
            "\u001b[1m1716/1716\u001b[0m \u001b[32m━━━━━━━━━━━━━━━━━━━━\u001b[0m\u001b[37m\u001b[0m \u001b[1m10s\u001b[0m 4ms/step - accuracy: 0.8733 - loss: 0.3095 - val_accuracy: 0.8756 - val_loss: 0.2944\n",
            "Epoch 12/20\n",
            "\u001b[1m1716/1716\u001b[0m \u001b[32m━━━━━━━━━━━━━━━━━━━━\u001b[0m\u001b[37m\u001b[0m \u001b[1m7s\u001b[0m 4ms/step - accuracy: 0.8734 - loss: 0.3096 - val_accuracy: 0.8728 - val_loss: 0.2975\n",
            "Epoch 13/20\n",
            "\u001b[1m1716/1716\u001b[0m \u001b[32m━━━━━━━━━━━━━━━━━━━━\u001b[0m\u001b[37m\u001b[0m \u001b[1m6s\u001b[0m 3ms/step - accuracy: 0.8748 - loss: 0.3060 - val_accuracy: 0.8754 - val_loss: 0.2955\n",
            "Epoch 14/20\n",
            "\u001b[1m1716/1716\u001b[0m \u001b[32m━━━━━━━━━━━━━━━━━━━━\u001b[0m\u001b[37m\u001b[0m \u001b[1m7s\u001b[0m 4ms/step - accuracy: 0.8744 - loss: 0.3085 - val_accuracy: 0.8768 - val_loss: 0.2960\n",
            "Epoch 15/20\n",
            "\u001b[1m1716/1716\u001b[0m \u001b[32m━━━━━━━━━━━━━━━━━━━━\u001b[0m\u001b[37m\u001b[0m \u001b[1m9s\u001b[0m 4ms/step - accuracy: 0.8764 - loss: 0.3075 - val_accuracy: 0.8759 - val_loss: 0.2917\n",
            "Epoch 16/20\n",
            "\u001b[1m1716/1716\u001b[0m \u001b[32m━━━━━━━━━━━━━━━━━━━━\u001b[0m\u001b[37m\u001b[0m \u001b[1m8s\u001b[0m 5ms/step - accuracy: 0.8762 - loss: 0.3028 - val_accuracy: 0.8791 - val_loss: 0.2921\n",
            "Epoch 17/20\n",
            "\u001b[1m1716/1716\u001b[0m \u001b[32m━━━━━━━━━━━━━━━━━━━━\u001b[0m\u001b[37m\u001b[0m \u001b[1m6s\u001b[0m 4ms/step - accuracy: 0.8744 - loss: 0.3075 - val_accuracy: 0.8776 - val_loss: 0.2908\n",
            "Epoch 18/20\n",
            "\u001b[1m1716/1716\u001b[0m \u001b[32m━━━━━━━━━━━━━━━━━━━━\u001b[0m\u001b[37m\u001b[0m \u001b[1m7s\u001b[0m 4ms/step - accuracy: 0.8742 - loss: 0.3079 - val_accuracy: 0.8777 - val_loss: 0.2915\n",
            "Epoch 19/20\n",
            "\u001b[1m1716/1716\u001b[0m \u001b[32m━━━━━━━━━━━━━━━━━━━━\u001b[0m\u001b[37m\u001b[0m \u001b[1m6s\u001b[0m 4ms/step - accuracy: 0.8778 - loss: 0.3019 - val_accuracy: 0.8768 - val_loss: 0.2928\n",
            "Epoch 20/20\n",
            "\u001b[1m1716/1716\u001b[0m \u001b[32m━━━━━━━━━━━━━━━━━━━━\u001b[0m\u001b[37m\u001b[0m \u001b[1m8s\u001b[0m 4ms/step - accuracy: 0.8774 - loss: 0.3053 - val_accuracy: 0.8771 - val_loss: 0.2931\n",
            "\u001b[1m205/205\u001b[0m \u001b[32m━━━━━━━━━━━━━━━━━━━━\u001b[0m\u001b[37m\u001b[0m \u001b[1m0s\u001b[0m 2ms/step - accuracy: 0.8737 - loss: 0.3085\n",
            "Test Accuracy: 87.92%\n",
            "\u001b[1m1716/1716\u001b[0m \u001b[32m━━━━━━━━━━━━━━━━━━━━\u001b[0m\u001b[37m\u001b[0m \u001b[1m3s\u001b[0m 2ms/step\n",
            "\u001b[1m205/205\u001b[0m \u001b[32m━━━━━━━━━━━━━━━━━━━━\u001b[0m\u001b[37m\u001b[0m \u001b[1m0s\u001b[0m 1ms/step\n",
            "Classification Report (Training Set):\n",
            "              precision    recall  f1-score   support\n",
            "\n",
            "           0       0.87      0.91      0.89     27448\n",
            "           1       0.91      0.86      0.89     27448\n",
            "\n",
            "    accuracy                           0.89     54896\n",
            "   macro avg       0.89      0.89      0.89     54896\n",
            "weighted avg       0.89      0.89      0.89     54896\n",
            "\n",
            "Classification Report (Testing Set):\n",
            "              precision    recall  f1-score   support\n",
            "\n",
            "           0       0.87      0.91      0.89      3449\n",
            "           1       0.89      0.85      0.87      3085\n",
            "\n",
            "    accuracy                           0.88      6534\n",
            "   macro avg       0.88      0.88      0.88      6534\n",
            "weighted avg       0.88      0.88      0.88      6534\n",
            "\n",
            "\u001b[1m205/205\u001b[0m \u001b[32m━━━━━━━━━━━━━━━━━━━━\u001b[0m\u001b[37m\u001b[0m \u001b[1m0s\u001b[0m 2ms/step\n",
            "ROC-AUC Score (Testing Set): 0.94\n"
          ]
        },
        {
          "output_type": "display_data",
          "data": {
            "text/plain": [
              "<Figure size 800x600 with 0 Axes>"
            ]
          },
          "metadata": {}
        },
        {
          "output_type": "display_data",
          "data": {
            "text/plain": [
              "<Figure size 640x480 with 2 Axes>"
            ],
            "image/png": "[encoded data removed]"
          },
          "metadata": {}
        }
      ],
      "source": [
        "from imblearn.over_sampling import SMOTE\n",
        "from sklearn.model_selection import train_test_split\n",
        "from sklearn.metrics import classification_report, roc_auc_score, confusion_matrix, ConfusionMatrixDisplay\n",
        "import tensorflow as tf\n",
        "from tensorflow.keras.models import Sequential\n",
        "from tensorflow.keras.layers import Dense, Dropout, BatchNormalization, LeakyReLU\n",
        "from tensorflow.keras.optimizers import Adam\n",
        "from tensorflow.keras.callbacks import EarlyStopping, ReduceLROnPlateau\n",
        "import pandas as pd\n",
        "import matplotlib.pyplot as plt\n",
        "\n",
        "data = pd.read_csv(\"Scaled.csv\")\n",
        "\n",
        "# Separate features (X) and target (y)\n",
        "X = data.drop('y', axis=1)\n",
        "Y = data['y']\n",
        "\n",
        "# Split the data into training (80%) and testing (20%) sets\n",
        "X_train, X_temp, y_train, y_temp = train_test_split(X, Y, test_size=0.2, random_state=42)\n",
        "\n",
        "# Further split the 20% into validation (10%) and testing (10%) sets\n",
        "X_val, X_test, y_val, y_test = train_test_split(X_temp, y_temp, test_size=0.5, random_state=42)\n",
        "\n",
        "# Apply SMOTE to the training set\n",
        "smote = SMOTE(random_state=42)\n",
        "X_train_smote, y_train_smote = smote.fit_resample(X_train, y_train)\n",
        "\n",
        "model = Sequential([\n",
        "    Dense(128, input_shape=(X_train_smote.shape[1],)),\n",
        "    BatchNormalization(),\n",
        "    LeakyReLU(alpha=0.1),\n",
        "    Dropout(0.4),\n",
        "\n",
        "    Dense(64),\n",
        "    BatchNormalization(),\n",
        "    LeakyReLU(alpha=0.1),\n",
        "    Dropout(0.4),\n",
        "\n",
        "    Dense(32),\n",
        "    BatchNormalization(),\n",
        "    LeakyReLU(alpha=0.1),\n",
        "    Dropout(0.4),\n",
        "\n",
        "    Dense(1, activation='sigmoid')\n",
        "])\n",
        "\n",
        "# Compile the model\n",
        "model.compile(optimizer='adam',\n",
        "              loss='binary_crossentropy',\n",
        "              metrics=['accuracy'])\n",
        "\n",
        "# Train the model\n",
        "history = model.fit(\n",
        "    X_train_smote, y_train_smote,\n",
        "    validation_data=(X_val, y_val),\n",
        "    epochs=20,  # Adjust based on performance\n",
        "    batch_size=32,  # Mini-batch size\n",
        "    verbose=1\n",
        ")\n",
        "\n",
        "# Evaluate the model on the test set\n",
        "test_loss, test_accuracy = model.evaluate(X_test, y_test)\n",
        "print(f\"Test Accuracy: {test_accuracy * 100:.2f}%\")\n",
        "\n",
        "# Get predictions for the training set\n",
        "y_train_pred = (model.predict(X_train_smote) > 0.5).astype(int)  # Threshold at 0.5\n",
        "y_train_smote_actual = y_train_smote.values  # Convert to numpy array if necessary\n",
        "\n",
        "# Get predictions for the testing set\n",
        "y_test_pred = (model.predict(X_test) > 0.5).astype(int)  # Threshold at 0.5\n",
        "\n",
        "# Classification report for training set\n",
        "print(\"Classification Report (Training Set):\")\n",
        "print(classification_report(y_train_smote_actual, y_train_pred))\n",
        "# Classification report for testing set\n",
        "print(\"Classification Report (Testing Set):\")\n",
        "print(classification_report(y_test, y_test_pred))\n",
        "\n",
        "# ROC-AUC\n",
        "roc_auc = roc_auc_score(y_test, model.predict(X_test))\n",
        "print(f\"ROC-AUC Score (Testing Set): {roc_auc:.2f}\")\n",
        "\n",
        "# Confusion matrix\n",
        "cm = confusion_matrix(y_test, y_test_pred)\n",
        "disp = ConfusionMatrixDisplay(confusion_matrix=cm, display_labels=[\"Class 0\", \"Class 1\"])\n",
        "# Plot the confusion matrix as a heatmap\n",
        "plt.figure(figsize=(8, 6))\n",
        "disp.plot(cmap=plt.cm.Purples)\n",
        "plt.title(\"Confusion Matrix (Testing Set)\")\n",
        "plt.show()"
      ]
    }
  ]
}