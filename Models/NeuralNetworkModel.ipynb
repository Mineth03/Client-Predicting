{
  "cells": [
    {
      "cell_type": "markdown",
      "metadata": {
        "id": "view-in-github",
        "colab_type": "text"
      },
      "source": [
        "<a href=\"https://colab.research.google.com/github/Mineth03/Client-Predicting/blob/Model_Neural_Network/Models/NeuralNetworkModel.ipynb\" target=\"_parent\"><img src=\"https://colab.research.google.com/assets/colab-badge.svg\" alt=\"Open In Colab\"/></a>"
      ]
    },
    {
      "cell_type": "code",
      "execution_count": 352,
      "metadata": {
        "id": "OSfa13bObapD"
      },
      "outputs": [],
      "source": [
        "import pandas as pd\n",
        "import numpy as np\n",
        "from sklearn.model_selection import train_test_split\n",
        "from sklearn.metrics import classification_report, roc_auc_score, confusion_matrix, ConfusionMatrixDisplay, accuracy_score\n",
        "import matplotlib.pyplot as plt\n",
        "from imblearn.over_sampling import SMOTE\n",
        "from tensorflow.keras.models import Sequential\n",
        "from tensorflow.keras.layers import Dense, BatchNormalization, LeakyReLU, Dropout\n",
        "from tensorflow.keras.optimizers import Adam\n",
        "from tensorflow.keras.callbacks import EarlyStopping, ReduceLROnPlateau"
      ]
    },
    {
      "cell_type": "code",
      "source": [
        "data = pd.read_csv(\"BankDataset.csv\")"
      ],
      "metadata": {
        "id": "EG5emGh6EvmL"
      },
      "execution_count": 353,
      "outputs": []
    },
    {
      "cell_type": "code",
      "source": [
        "x = data.drop('y', axis=1)\n",
        "y = data['y']"
      ],
      "metadata": {
        "id": "x8nibSkbEyQ1"
      },
      "execution_count": 354,
      "outputs": []
    },
    {
      "cell_type": "code",
      "source": [
        "# Data spliting\n",
        "XTrain, XTemp, yTrain, yTemp = train_test_split(x, y, test_size=0.2, random_state=42)\n",
        "# Further spliting\n",
        "XVal, XTest, yVal, yTest = train_test_split(XTemp, yTemp, test_size=0.5, random_state=42)"
      ],
      "metadata": {
        "id": "N_fUmM4KEz1K"
      },
      "execution_count": 355,
      "outputs": []
    },
    {
      "cell_type": "code",
      "source": [
        "smote = SMOTE(\n",
        "  random_state=42,\n",
        "  k_neighbors=3,\n",
        "  sampling_strategy=0.4\n",
        ")\n",
        "XTrain, yTrain = smote.fit_resample(XTrain, yTrain)"
      ],
      "metadata": {
        "colab": {
          "base_uri": "https://localhost:8080/"
        },
        "id": "97WD-c6HE33K",
        "outputId": "57cbe301-d6e8-4ac0-f217-3bff144bcd3a"
      },
      "execution_count": 356,
      "outputs": [
        {
          "output_type": "stream",
          "name": "stderr",
          "text": [
            "/usr/local/lib/python3.10/dist-packages/sklearn/base.py:474: FutureWarning: `BaseEstimator._validate_data` is deprecated in 1.6 and will be removed in 1.7. Use `sklearn.utils.validation.validate_data` instead. This function becomes public and is part of the scikit-learn developer API.\n",
            "  warnings.warn(\n",
            "/usr/local/lib/python3.10/dist-packages/sklearn/utils/_tags.py:354: FutureWarning: The SMOTE or classes from which it inherits use `_get_tags` and `_more_tags`. Please define the `__sklearn_tags__` method, or inherit from `sklearn.base.BaseEstimator` and/or other appropriate mixins such as `sklearn.base.TransformerMixin`, `sklearn.base.ClassifierMixin`, `sklearn.base.RegressorMixin`, and `sklearn.base.OutlierMixin`. From scikit-learn 1.7, not defining `__sklearn_tags__` will raise an error.\n",
            "  warnings.warn(\n"
          ]
        }
      ]
    },
    {
      "cell_type": "code",
      "source": [
        "NNmodel = Sequential([\n",
        "  Dense(256, input_shape=(XTrain.shape[1],), activation='relu'),\n",
        "  Dropout(0.2),\n",
        "\n",
        "  Dense(128, activation='relu'),\n",
        "  Dropout(0.2),\n",
        "\n",
        "  Dense(64, activation='relu'),\n",
        "  Dropout(0.2),\n",
        "\n",
        "  Dense(1, activation='sigmoid')\n",
        "])"
      ],
      "metadata": {
        "colab": {
          "base_uri": "https://localhost:8080/"
        },
        "id": "Q9R9UL23E7Z7",
        "outputId": "5223f5af-a529-4fc2-f0f9-f7077a4c6441"
      },
      "execution_count": 357,
      "outputs": [
        {
          "output_type": "stream",
          "name": "stderr",
          "text": [
            "/usr/local/lib/python3.10/dist-packages/keras/src/layers/core/dense.py:87: UserWarning: Do not pass an `input_shape`/`input_dim` argument to a layer. When using Sequential models, prefer using an `Input(shape)` object as the first layer in the model instead.\n",
            "  super().__init__(activity_regularizer=activity_regularizer, **kwargs)\n"
          ]
        }
      ]
    },
    {
      "cell_type": "code",
      "source": [
        "earlyStop = EarlyStopping(monitor='val_loss', patience=40, restore_best_weights=True)\n",
        "lrScheduler = ReduceLROnPlateau(monitor='val_loss', factor=0.5, patience=5, min_lr=1e-6)"
      ],
      "metadata": {
        "id": "Ejch5ebXE-4_"
      },
      "execution_count": 358,
      "outputs": []
    },
    {
      "cell_type": "code",
      "source": [
        "# Compile\n",
        "NNmodel.compile(optimizer=Adam(learning_rate=0.0001),\n",
        "              loss='binary_crossentropy',\n",
        "              metrics=['accuracy'])"
      ],
      "metadata": {
        "id": "7B0VrscIGUb6"
      },
      "execution_count": 359,
      "outputs": []
    },
    {
      "cell_type": "code",
      "source": [
        "# Train the model\n",
        "trainingStats = NNmodel.fit(\n",
        "  XTrain, yTrain,\n",
        "  validation_data=(XVal, yVal),\n",
        "  epochs=60,\n",
        "  batch_size=32,\n",
        "  verbose=1,\n",
        "  callbacks=[earlyStop, lrScheduler]\n",
        ")"
      ],
      "metadata": {
        "colab": {
          "base_uri": "https://localhost:8080/"
        },
        "id": "Y83uHW2bGXIK",
        "outputId": "08a1443f-8ad6-4186-834e-701411051b05"
      },
      "execution_count": 360,
      "outputs": [
        {
          "output_type": "stream",
          "name": "stdout",
          "text": [
            "Epoch 1/60\n",
            "\u001b[1m1280/1280\u001b[0m \u001b[32m━━━━━━━━━━━━━━━━━━━━\u001b[0m\u001b[37m\u001b[0m \u001b[1m6s\u001b[0m 3ms/step - accuracy: 0.7276 - loss: 0.5409 - val_accuracy: 0.8609 - val_loss: 0.3539 - learning_rate: 1.0000e-04\n",
            "Epoch 2/60\n",
            "\u001b[1m1280/1280\u001b[0m \u001b[32m━━━━━━━━━━━━━━━━━━━━\u001b[0m\u001b[37m\u001b[0m \u001b[1m5s\u001b[0m 3ms/step - accuracy: 0.8121 - loss: 0.4408 - val_accuracy: 0.8684 - val_loss: 0.3414 - learning_rate: 1.0000e-04\n",
            "Epoch 3/60\n",
            "\u001b[1m1280/1280\u001b[0m \u001b[32m━━━━━━━━━━━━━━━━━━━━\u001b[0m\u001b[37m\u001b[0m \u001b[1m5s\u001b[0m 4ms/step - accuracy: 0.8214 - loss: 0.4230 - val_accuracy: 0.8711 - val_loss: 0.3388 - learning_rate: 1.0000e-04\n",
            "Epoch 4/60\n",
            "\u001b[1m1280/1280\u001b[0m \u001b[32m━━━━━━━━━━━━━━━━━━━━\u001b[0m\u001b[37m\u001b[0m \u001b[1m9s\u001b[0m 3ms/step - accuracy: 0.8152 - loss: 0.4266 - val_accuracy: 0.8713 - val_loss: 0.3364 - learning_rate: 1.0000e-04\n",
            "Epoch 5/60\n",
            "\u001b[1m1280/1280\u001b[0m \u001b[32m━━━━━━━━━━━━━━━━━━━━\u001b[0m\u001b[37m\u001b[0m \u001b[1m5s\u001b[0m 4ms/step - accuracy: 0.8209 - loss: 0.4121 - val_accuracy: 0.8689 - val_loss: 0.3417 - learning_rate: 1.0000e-04\n",
            "Epoch 6/60\n",
            "\u001b[1m1280/1280\u001b[0m \u001b[32m━━━━━━━━━━━━━━━━━━━━\u001b[0m\u001b[37m\u001b[0m \u001b[1m8s\u001b[0m 3ms/step - accuracy: 0.8265 - loss: 0.4076 - val_accuracy: 0.8703 - val_loss: 0.3387 - learning_rate: 1.0000e-04\n",
            "Epoch 7/60\n",
            "\u001b[1m1280/1280\u001b[0m \u001b[32m━━━━━━━━━━━━━━━━━━━━\u001b[0m\u001b[37m\u001b[0m \u001b[1m5s\u001b[0m 4ms/step - accuracy: 0.8292 - loss: 0.4007 - val_accuracy: 0.8725 - val_loss: 0.3386 - learning_rate: 1.0000e-04\n",
            "Epoch 8/60\n",
            "\u001b[1m1280/1280\u001b[0m \u001b[32m━━━━━━━━━━━━━━━━━━━━\u001b[0m\u001b[37m\u001b[0m \u001b[1m4s\u001b[0m 3ms/step - accuracy: 0.8325 - loss: 0.3935 - val_accuracy: 0.8730 - val_loss: 0.3421 - learning_rate: 1.0000e-04\n",
            "Epoch 9/60\n",
            "\u001b[1m1280/1280\u001b[0m \u001b[32m━━━━━━━━━━━━━━━━━━━━\u001b[0m\u001b[37m\u001b[0m \u001b[1m5s\u001b[0m 3ms/step - accuracy: 0.8303 - loss: 0.3941 - val_accuracy: 0.8730 - val_loss: 0.3374 - learning_rate: 1.0000e-04\n",
            "Epoch 10/60\n",
            "\u001b[1m1280/1280\u001b[0m \u001b[32m━━━━━━━━━━━━━━━━━━━━\u001b[0m\u001b[37m\u001b[0m \u001b[1m5s\u001b[0m 4ms/step - accuracy: 0.8343 - loss: 0.3899 - val_accuracy: 0.8689 - val_loss: 0.3408 - learning_rate: 5.0000e-05\n",
            "Epoch 11/60\n",
            "\u001b[1m1280/1280\u001b[0m \u001b[32m━━━━━━━━━━━━━━━━━━━━\u001b[0m\u001b[37m\u001b[0m \u001b[1m4s\u001b[0m 3ms/step - accuracy: 0.8373 - loss: 0.3860 - val_accuracy: 0.8691 - val_loss: 0.3420 - learning_rate: 5.0000e-05\n",
            "Epoch 12/60\n",
            "\u001b[1m1280/1280\u001b[0m \u001b[32m━━━━━━━━━━━━━━━━━━━━\u001b[0m\u001b[37m\u001b[0m \u001b[1m5s\u001b[0m 3ms/step - accuracy: 0.8376 - loss: 0.3849 - val_accuracy: 0.8718 - val_loss: 0.3384 - learning_rate: 5.0000e-05\n",
            "Epoch 13/60\n",
            "\u001b[1m1280/1280\u001b[0m \u001b[32m━━━━━━━━━━━━━━━━━━━━\u001b[0m\u001b[37m\u001b[0m \u001b[1m6s\u001b[0m 4ms/step - accuracy: 0.8359 - loss: 0.3848 - val_accuracy: 0.8672 - val_loss: 0.3467 - learning_rate: 5.0000e-05\n",
            "Epoch 14/60\n",
            "\u001b[1m1280/1280\u001b[0m \u001b[32m━━━━━━━━━━━━━━━━━━━━\u001b[0m\u001b[37m\u001b[0m \u001b[1m4s\u001b[0m 3ms/step - accuracy: 0.8370 - loss: 0.3872 - val_accuracy: 0.8681 - val_loss: 0.3422 - learning_rate: 5.0000e-05\n",
            "Epoch 15/60\n",
            "\u001b[1m1280/1280\u001b[0m \u001b[32m━━━━━━━━━━━━━━━━━━━━\u001b[0m\u001b[37m\u001b[0m \u001b[1m4s\u001b[0m 3ms/step - accuracy: 0.8349 - loss: 0.3862 - val_accuracy: 0.8711 - val_loss: 0.3385 - learning_rate: 2.5000e-05\n",
            "Epoch 16/60\n",
            "\u001b[1m1280/1280\u001b[0m \u001b[32m━━━━━━━━━━━━━━━━━━━━\u001b[0m\u001b[37m\u001b[0m \u001b[1m5s\u001b[0m 4ms/step - accuracy: 0.8373 - loss: 0.3813 - val_accuracy: 0.8698 - val_loss: 0.3415 - learning_rate: 2.5000e-05\n",
            "Epoch 17/60\n",
            "\u001b[1m1280/1280\u001b[0m \u001b[32m━━━━━━━━━━━━━━━━━━━━\u001b[0m\u001b[37m\u001b[0m \u001b[1m9s\u001b[0m 3ms/step - accuracy: 0.8373 - loss: 0.3809 - val_accuracy: 0.8696 - val_loss: 0.3407 - learning_rate: 2.5000e-05\n",
            "Epoch 18/60\n",
            "\u001b[1m1280/1280\u001b[0m \u001b[32m━━━━━━━━━━━━━━━━━━━━\u001b[0m\u001b[37m\u001b[0m \u001b[1m5s\u001b[0m 4ms/step - accuracy: 0.8396 - loss: 0.3786 - val_accuracy: 0.8696 - val_loss: 0.3413 - learning_rate: 2.5000e-05\n",
            "Epoch 19/60\n",
            "\u001b[1m1280/1280\u001b[0m \u001b[32m━━━━━━━━━━━━━━━━━━━━\u001b[0m\u001b[37m\u001b[0m \u001b[1m4s\u001b[0m 3ms/step - accuracy: 0.8396 - loss: 0.3796 - val_accuracy: 0.8708 - val_loss: 0.3388 - learning_rate: 2.5000e-05\n",
            "Epoch 20/60\n",
            "\u001b[1m1280/1280\u001b[0m \u001b[32m━━━━━━━━━━━━━━━━━━━━\u001b[0m\u001b[37m\u001b[0m \u001b[1m5s\u001b[0m 3ms/step - accuracy: 0.8376 - loss: 0.3841 - val_accuracy: 0.8715 - val_loss: 0.3387 - learning_rate: 1.2500e-05\n",
            "Epoch 21/60\n",
            "\u001b[1m1280/1280\u001b[0m \u001b[32m━━━━━━━━━━━━━━━━━━━━\u001b[0m\u001b[37m\u001b[0m \u001b[1m7s\u001b[0m 4ms/step - accuracy: 0.8374 - loss: 0.3814 - val_accuracy: 0.8728 - val_loss: 0.3372 - learning_rate: 1.2500e-05\n",
            "Epoch 22/60\n",
            "\u001b[1m1280/1280\u001b[0m \u001b[32m━━━━━━━━━━━━━━━━━━━━\u001b[0m\u001b[37m\u001b[0m \u001b[1m4s\u001b[0m 3ms/step - accuracy: 0.8422 - loss: 0.3751 - val_accuracy: 0.8698 - val_loss: 0.3407 - learning_rate: 1.2500e-05\n",
            "Epoch 23/60\n",
            "\u001b[1m1280/1280\u001b[0m \u001b[32m━━━━━━━━━━━━━━━━━━━━\u001b[0m\u001b[37m\u001b[0m \u001b[1m4s\u001b[0m 3ms/step - accuracy: 0.8406 - loss: 0.3784 - val_accuracy: 0.8723 - val_loss: 0.3396 - learning_rate: 1.2500e-05\n",
            "Epoch 24/60\n",
            "\u001b[1m1280/1280\u001b[0m \u001b[32m━━━━━━━━━━━━━━━━━━━━\u001b[0m\u001b[37m\u001b[0m \u001b[1m5s\u001b[0m 4ms/step - accuracy: 0.8412 - loss: 0.3730 - val_accuracy: 0.8728 - val_loss: 0.3378 - learning_rate: 1.2500e-05\n",
            "Epoch 25/60\n",
            "\u001b[1m1280/1280\u001b[0m \u001b[32m━━━━━━━━━━━━━━━━━━━━\u001b[0m\u001b[37m\u001b[0m \u001b[1m9s\u001b[0m 3ms/step - accuracy: 0.8376 - loss: 0.3824 - val_accuracy: 0.8698 - val_loss: 0.3397 - learning_rate: 6.2500e-06\n",
            "Epoch 26/60\n",
            "\u001b[1m1280/1280\u001b[0m \u001b[32m━━━━━━━━━━━━━━━━━━━━\u001b[0m\u001b[37m\u001b[0m \u001b[1m5s\u001b[0m 4ms/step - accuracy: 0.8397 - loss: 0.3766 - val_accuracy: 0.8720 - val_loss: 0.3384 - learning_rate: 6.2500e-06\n",
            "Epoch 27/60\n",
            "\u001b[1m1280/1280\u001b[0m \u001b[32m━━━━━━━━━━━━━━━━━━━━\u001b[0m\u001b[37m\u001b[0m \u001b[1m4s\u001b[0m 3ms/step - accuracy: 0.8398 - loss: 0.3764 - val_accuracy: 0.8723 - val_loss: 0.3386 - learning_rate: 6.2500e-06\n",
            "Epoch 28/60\n",
            "\u001b[1m1280/1280\u001b[0m \u001b[32m━━━━━━━━━━━━━━━━━━━━\u001b[0m\u001b[37m\u001b[0m \u001b[1m5s\u001b[0m 3ms/step - accuracy: 0.8432 - loss: 0.3743 - val_accuracy: 0.8711 - val_loss: 0.3398 - learning_rate: 6.2500e-06\n",
            "Epoch 29/60\n",
            "\u001b[1m1280/1280\u001b[0m \u001b[32m━━━━━━━━━━━━━━━━━━━━\u001b[0m\u001b[37m\u001b[0m \u001b[1m6s\u001b[0m 4ms/step - accuracy: 0.8383 - loss: 0.3840 - val_accuracy: 0.8730 - val_loss: 0.3378 - learning_rate: 6.2500e-06\n",
            "Epoch 30/60\n",
            "\u001b[1m1280/1280\u001b[0m \u001b[32m━━━━━━━━━━━━━━━━━━━━\u001b[0m\u001b[37m\u001b[0m \u001b[1m4s\u001b[0m 3ms/step - accuracy: 0.8372 - loss: 0.3786 - val_accuracy: 0.8723 - val_loss: 0.3387 - learning_rate: 3.1250e-06\n",
            "Epoch 31/60\n",
            "\u001b[1m1280/1280\u001b[0m \u001b[32m━━━━━━━━━━━━━━━━━━━━\u001b[0m\u001b[37m\u001b[0m \u001b[1m4s\u001b[0m 3ms/step - accuracy: 0.8386 - loss: 0.3780 - val_accuracy: 0.8723 - val_loss: 0.3390 - learning_rate: 3.1250e-06\n",
            "Epoch 32/60\n",
            "\u001b[1m1280/1280\u001b[0m \u001b[32m━━━━━━━━━━━━━━━━━━━━\u001b[0m\u001b[37m\u001b[0m \u001b[1m5s\u001b[0m 4ms/step - accuracy: 0.8403 - loss: 0.3769 - val_accuracy: 0.8711 - val_loss: 0.3399 - learning_rate: 3.1250e-06\n",
            "Epoch 33/60\n",
            "\u001b[1m1280/1280\u001b[0m \u001b[32m━━━━━━━━━━━━━━━━━━━━\u001b[0m\u001b[37m\u001b[0m \u001b[1m4s\u001b[0m 3ms/step - accuracy: 0.8430 - loss: 0.3734 - val_accuracy: 0.8715 - val_loss: 0.3395 - learning_rate: 3.1250e-06\n",
            "Epoch 34/60\n",
            "\u001b[1m1280/1280\u001b[0m \u001b[32m━━━━━━━━━━━━━━━━━━━━\u001b[0m\u001b[37m\u001b[0m \u001b[1m4s\u001b[0m 3ms/step - accuracy: 0.8419 - loss: 0.3739 - val_accuracy: 0.8720 - val_loss: 0.3390 - learning_rate: 3.1250e-06\n",
            "Epoch 35/60\n",
            "\u001b[1m1280/1280\u001b[0m \u001b[32m━━━━━━━━━━━━━━━━━━━━\u001b[0m\u001b[37m\u001b[0m \u001b[1m4s\u001b[0m 3ms/step - accuracy: 0.8379 - loss: 0.3822 - val_accuracy: 0.8723 - val_loss: 0.3389 - learning_rate: 1.5625e-06\n",
            "Epoch 36/60\n",
            "\u001b[1m1280/1280\u001b[0m \u001b[32m━━━━━━━━━━━━━━━━━━━━\u001b[0m\u001b[37m\u001b[0m \u001b[1m5s\u001b[0m 4ms/step - accuracy: 0.8396 - loss: 0.3760 - val_accuracy: 0.8723 - val_loss: 0.3388 - learning_rate: 1.5625e-06\n",
            "Epoch 37/60\n",
            "\u001b[1m1280/1280\u001b[0m \u001b[32m━━━━━━━━━━━━━━━━━━━━\u001b[0m\u001b[37m\u001b[0m \u001b[1m4s\u001b[0m 3ms/step - accuracy: 0.8425 - loss: 0.3713 - val_accuracy: 0.8723 - val_loss: 0.3391 - learning_rate: 1.5625e-06\n",
            "Epoch 38/60\n",
            "\u001b[1m1280/1280\u001b[0m \u001b[32m━━━━━━━━━━━━━━━━━━━━\u001b[0m\u001b[37m\u001b[0m \u001b[1m4s\u001b[0m 3ms/step - accuracy: 0.8418 - loss: 0.3727 - val_accuracy: 0.8723 - val_loss: 0.3390 - learning_rate: 1.5625e-06\n",
            "Epoch 39/60\n",
            "\u001b[1m1280/1280\u001b[0m \u001b[32m━━━━━━━━━━━━━━━━━━━━\u001b[0m\u001b[37m\u001b[0m \u001b[1m6s\u001b[0m 4ms/step - accuracy: 0.8452 - loss: 0.3697 - val_accuracy: 0.8718 - val_loss: 0.3396 - learning_rate: 1.5625e-06\n",
            "Epoch 40/60\n",
            "\u001b[1m1280/1280\u001b[0m \u001b[32m━━━━━━━━━━━━━━━━━━━━\u001b[0m\u001b[37m\u001b[0m \u001b[1m4s\u001b[0m 3ms/step - accuracy: 0.8399 - loss: 0.3739 - val_accuracy: 0.8720 - val_loss: 0.3393 - learning_rate: 1.0000e-06\n",
            "Epoch 41/60\n",
            "\u001b[1m1280/1280\u001b[0m \u001b[32m━━━━━━━━━━━━━━━━━━━━\u001b[0m\u001b[37m\u001b[0m \u001b[1m4s\u001b[0m 3ms/step - accuracy: 0.8437 - loss: 0.3751 - val_accuracy: 0.8720 - val_loss: 0.3392 - learning_rate: 1.0000e-06\n",
            "Epoch 42/60\n",
            "\u001b[1m1280/1280\u001b[0m \u001b[32m━━━━━━━━━━━━━━━━━━━━\u001b[0m\u001b[37m\u001b[0m \u001b[1m5s\u001b[0m 4ms/step - accuracy: 0.8421 - loss: 0.3739 - val_accuracy: 0.8720 - val_loss: 0.3391 - learning_rate: 1.0000e-06\n",
            "Epoch 43/60\n",
            "\u001b[1m1280/1280\u001b[0m \u001b[32m━━━━━━━━━━━━━━━━━━━━\u001b[0m\u001b[37m\u001b[0m \u001b[1m4s\u001b[0m 3ms/step - accuracy: 0.8416 - loss: 0.3755 - val_accuracy: 0.8723 - val_loss: 0.3389 - learning_rate: 1.0000e-06\n",
            "Epoch 44/60\n",
            "\u001b[1m1280/1280\u001b[0m \u001b[32m━━━━━━━━━━━━━━━━━━━━\u001b[0m\u001b[37m\u001b[0m \u001b[1m4s\u001b[0m 3ms/step - accuracy: 0.8409 - loss: 0.3765 - val_accuracy: 0.8728 - val_loss: 0.3387 - learning_rate: 1.0000e-06\n"
          ]
        }
      ]
    },
    {
      "cell_type": "code",
      "source": [
        "# Get predictions for the training set\n",
        "yTrainPred = (NNmodel.predict(XTrain) > 0.5).astype(int)\n",
        "yTrainActual = yTrain.values\n",
        "# Get predictions for the testing set\n",
        "yPred = (NNmodel.predict(XTest) > 0.5).astype(int)"
      ],
      "metadata": {
        "id": "SUQ8UmzxGnYr",
        "colab": {
          "base_uri": "https://localhost:8080/"
        },
        "outputId": "3f1ae246-8270-4b6a-9d57-195b50b02e65"
      },
      "execution_count": 361,
      "outputs": [
        {
          "output_type": "stream",
          "name": "stdout",
          "text": [
            "\u001b[1m1280/1280\u001b[0m \u001b[32m━━━━━━━━━━━━━━━━━━━━\u001b[0m\u001b[37m\u001b[0m \u001b[1m2s\u001b[0m 1ms/step\n",
            "\u001b[1m129/129\u001b[0m \u001b[32m━━━━━━━━━━━━━━━━━━━━\u001b[0m\u001b[37m\u001b[0m \u001b[1m0s\u001b[0m 1ms/step\n"
          ]
        }
      ]
    },
    {
      "cell_type": "code",
      "source": [
        "# Training vs Testing accuracy\n",
        "trainAcc = accuracy_score(yTrainActual, yTrainPred)\n",
        "testAcc = accuracy_score(yTest, yPred)"
      ],
      "metadata": {
        "id": "mPXP22LIGrnX"
      },
      "execution_count": 362,
      "outputs": []
    },
    {
      "cell_type": "code",
      "source": [
        "print(f\"Training Set Accuracy: {trainAcc * 100:.4f}%\")\n",
        "print(f\"Testing Set Accuracy: {testAcc * 100:.4f}%\")"
      ],
      "metadata": {
        "id": "dxDh-iFQGtvi",
        "colab": {
          "base_uri": "https://localhost:8080/"
        },
        "outputId": "2bea8c1c-f101-4d31-cf52-7c61b26b708a"
      },
      "execution_count": 363,
      "outputs": [
        {
          "output_type": "stream",
          "name": "stdout",
          "text": [
            "Training Set Accuracy: 82.7684%\n",
            "Testing Set Accuracy: 87.6882%\n"
          ]
        }
      ]
    },
    {
      "cell_type": "code",
      "source": [
        "# Classification report for testing set\n",
        "print(\"Classification Report :\")\n",
        "print(classification_report(yTest, yPred))"
      ],
      "metadata": {
        "id": "NrwpIwc9Gwg0",
        "colab": {
          "base_uri": "https://localhost:8080/"
        },
        "outputId": "dd596f70-dae4-4009-fcc5-bf9ab65cb4f6"
      },
      "execution_count": 364,
      "outputs": [
        {
          "output_type": "stream",
          "name": "stdout",
          "text": [
            "Classification Report (Testing Set):\n",
            "              precision    recall  f1-score   support\n",
            "\n",
            "           0       0.93      0.94      0.93      3630\n",
            "           1       0.48      0.44      0.46       488\n",
            "\n",
            "    accuracy                           0.88      4118\n",
            "   macro avg       0.70      0.69      0.69      4118\n",
            "weighted avg       0.87      0.88      0.87      4118\n",
            "\n"
          ]
        }
      ]
    },
    {
      "cell_type": "code",
      "source": [
        "# ROC-AUC\n",
        "print(f\"ROC-AUC Score : {roc_auc_score(yTest, NNmodel.predict(XTest))}\")"
      ],
      "metadata": {
        "id": "KpqK4zOMG1WH",
        "colab": {
          "base_uri": "https://localhost:8080/"
        },
        "outputId": "b0e62bec-5479-4b5b-e16a-27e4ff6b8b81"
      },
      "execution_count": 365,
      "outputs": [
        {
          "output_type": "stream",
          "name": "stdout",
          "text": [
            "\u001b[1m129/129\u001b[0m \u001b[32m━━━━━━━━━━━━━━━━━━━━\u001b[0m\u001b[37m\u001b[0m \u001b[1m0s\u001b[0m 1ms/step\n",
            "ROC-AUC Score (Testing Set): 0.7832924061780246\n"
          ]
        }
      ]
    },
    {
      "cell_type": "code",
      "execution_count": 366,
      "metadata": {
        "id": "7G1odaULKZ_b",
        "colab": {
          "base_uri": "https://localhost:8080/",
          "height": 489
        },
        "outputId": "53cd8f35-19f5-4a33-a051-8492ff763991"
      },
      "outputs": [
        {
          "output_type": "display_data",
          "data": {
            "text/plain": [
              "<Figure size 800x600 with 0 Axes>"
            ]
          },
          "metadata": {}
        },
        {
          "output_type": "display_data",
          "data": {
            "text/plain": [
              "<Figure size 640x480 with 2 Axes>"
            ],
            "image/png": "[encoded data removed]"
          },
          "metadata": {}
        }
      ],
      "source": [
        "# Confusion matrix\n",
        "cm = confusion_matrix(yTest, yPred)\n",
        "disp = ConfusionMatrixDisplay(confusion_matrix=cm, display_labels=[\"Class 0\", \"Class 1\"])\n",
        "plt.figure(figsize=(8, 6))\n",
        "disp.plot(cmap=plt.cm.Purples)\n",
        "plt.title(\"Confusion Matrix\")\n",
        "plt.show()"
      ]
    }
  ],
  "metadata": {
    "colab": {
      "provenance": [],
      "authorship_tag": "ABX9TyPhXM61P4ZPj9fBfs673D4o",
      "include_colab_link": true
    },
    "kernelspec": {
      "display_name": "Python 3",
      "name": "python3"
    },
    "language_info": {
      "name": "python"
    }
  },
  "nbformat": 4,
  "nbformat_minor": 0
}