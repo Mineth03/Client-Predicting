{
  "cells": [
    {
      "cell_type": "markdown",
      "metadata": {
        "id": "view-in-github",
        "colab_type": "text"
      },
      "source": [
        "<a href=\"https://colab.research.google.com/github/Mineth03/Client-Predicting/blob/Model_Neural_Network/Models/NeuralNetworkModel.ipynb\" target=\"_parent\"><img src=\"https://colab.research.google.com/assets/colab-badge.svg\" alt=\"Open In Colab\"/></a>"
      ]
    },
    {
      "cell_type": "code",
      "execution_count": 183,
      "metadata": {
        "id": "OSfa13bObapD"
      },
      "outputs": [],
      "source": [
        "import pandas as pd\n",
        "import numpy as np\n",
        "from sklearn.model_selection import train_test_split\n",
        "from sklearn.metrics import classification_report, roc_auc_score, confusion_matrix, ConfusionMatrixDisplay, accuracy_score\n",
        "import matplotlib.pyplot as plt\n",
        "from imblearn.over_sampling import SMOTE\n",
        "from tensorflow.keras.models import Sequential\n",
        "from tensorflow.keras.layers import Dense, BatchNormalization, LeakyReLU, Dropout\n",
        "from tensorflow.keras.optimizers import Adam\n",
        "from tensorflow.keras.callbacks import EarlyStopping, ReduceLROnPlateau"
      ]
    },
    {
      "cell_type": "code",
      "source": [
        "data = pd.read_csv(\"BankDataset.csv\")"
      ],
      "metadata": {
        "id": "EG5emGh6EvmL"
      },
      "execution_count": 184,
      "outputs": []
    },
    {
      "cell_type": "code",
      "source": [
        "x = data.drop('y', axis=1)\n",
        "y = data['y']"
      ],
      "metadata": {
        "id": "x8nibSkbEyQ1"
      },
      "execution_count": 185,
      "outputs": []
    },
    {
      "cell_type": "code",
      "source": [
        "# Data spliting\n",
        "XTrain, XTemp, yTrain, yTemp = train_test_split(x, y, test_size=0.2, random_state=42)\n",
        "# Further spliting\n",
        "XVal, XTest, yVal, yTest = train_test_split(XTemp, yTemp, test_size=0.5, random_state=42)"
      ],
      "metadata": {
        "id": "N_fUmM4KEz1K"
      },
      "execution_count": 186,
      "outputs": []
    },
    {
      "cell_type": "code",
      "source": [
        "smote = SMOTE(\n",
        "  random_state=42,\n",
        "  k_neighbors=3,\n",
        "  sampling_strategy=0.3\n",
        ")\n",
        "XTrain, yTrain = smote.fit_resample(XTrain, yTrain)"
      ],
      "metadata": {
        "colab": {
          "base_uri": "https://localhost:8080/"
        },
        "id": "97WD-c6HE33K",
        "outputId": "22e24988-f6f2-447b-84a3-c0f0fe721d7a"
      },
      "execution_count": 187,
      "outputs": [
        {
          "output_type": "stream",
          "name": "stderr",
          "text": [
            "/usr/local/lib/python3.10/dist-packages/sklearn/base.py:474: FutureWarning: `BaseEstimator._validate_data` is deprecated in 1.6 and will be removed in 1.7. Use `sklearn.utils.validation.validate_data` instead. This function becomes public and is part of the scikit-learn developer API.\n",
            "  warnings.warn(\n",
            "/usr/local/lib/python3.10/dist-packages/sklearn/utils/_tags.py:354: FutureWarning: The SMOTE or classes from which it inherits use `_get_tags` and `_more_tags`. Please define the `__sklearn_tags__` method, or inherit from `sklearn.base.BaseEstimator` and/or other appropriate mixins such as `sklearn.base.TransformerMixin`, `sklearn.base.ClassifierMixin`, `sklearn.base.RegressorMixin`, and `sklearn.base.OutlierMixin`. From scikit-learn 1.7, not defining `__sklearn_tags__` will raise an error.\n",
            "  warnings.warn(\n"
          ]
        }
      ]
    },
    {
      "cell_type": "code",
      "source": [
        "NNmodel = Sequential([\n",
        "  Dense(256, input_shape=(XTrain.shape[1],), activation='relu'),\n",
        "  Dropout(0.2),\n",
        "\n",
        "  Dense(128, activation='relu'),\n",
        "  Dropout(0.2),\n",
        "\n",
        "  Dense(64, activation='relu'),\n",
        "  Dropout(0.2),\n",
        "\n",
        "  Dense(1, activation='sigmoid')\n",
        "])"
      ],
      "metadata": {
        "colab": {
          "base_uri": "https://localhost:8080/"
        },
        "id": "Q9R9UL23E7Z7",
        "outputId": "b267dca8-a203-4b8d-81c8-bc0d1b75a327"
      },
      "execution_count": 188,
      "outputs": [
        {
          "output_type": "stream",
          "name": "stderr",
          "text": [
            "/usr/local/lib/python3.10/dist-packages/keras/src/layers/core/dense.py:87: UserWarning: Do not pass an `input_shape`/`input_dim` argument to a layer. When using Sequential models, prefer using an `Input(shape)` object as the first layer in the model instead.\n",
            "  super().__init__(activity_regularizer=activity_regularizer, **kwargs)\n"
          ]
        }
      ]
    },
    {
      "cell_type": "code",
      "source": [
        "earlyStop = EarlyStopping(monitor='val_loss', patience=40, restore_best_weights=True)\n",
        "lrScheduler = ReduceLROnPlateau(monitor='val_loss', factor=0.5, patience=5, min_lr=1e-6)"
      ],
      "metadata": {
        "id": "Ejch5ebXE-4_"
      },
      "execution_count": 189,
      "outputs": []
    },
    {
      "cell_type": "code",
      "source": [
        "# Compile\n",
        "NNmodel.compile(optimizer=Adam(learning_rate=0.0002),\n",
        "              loss='binary_crossentropy',\n",
        "              metrics=['accuracy'])"
      ],
      "metadata": {
        "id": "7B0VrscIGUb6"
      },
      "execution_count": 190,
      "outputs": []
    },
    {
      "cell_type": "code",
      "source": [
        "# Train the model\n",
        "trainingStats = NNmodel.fit(\n",
        "  XTrain, yTrain,\n",
        "  validation_data=(XVal, yVal),\n",
        "  epochs=60,\n",
        "  batch_size=32,\n",
        "  verbose=1,\n",
        "  callbacks=[earlyStop, lrScheduler]\n",
        ")"
      ],
      "metadata": {
        "colab": {
          "base_uri": "https://localhost:8080/"
        },
        "id": "Y83uHW2bGXIK",
        "outputId": "60bd7e64-dc94-407f-d477-615cc4df1756"
      },
      "execution_count": 191,
      "outputs": [
        {
          "output_type": "stream",
          "name": "stdout",
          "text": [
            "Epoch 1/60\n",
            "\u001b[1m1189/1189\u001b[0m \u001b[32m━━━━━━━━━━━━━━━━━━━━\u001b[0m\u001b[37m\u001b[0m \u001b[1m5s\u001b[0m 3ms/step - accuracy: 0.8072 - loss: 0.4547 - val_accuracy: 0.8742 - val_loss: 0.3208 - learning_rate: 2.0000e-04\n",
            "Epoch 2/60\n",
            "\u001b[1m1189/1189\u001b[0m \u001b[32m━━━━━━━━━━━━━━━━━━━━\u001b[0m\u001b[37m\u001b[0m \u001b[1m6s\u001b[0m 4ms/step - accuracy: 0.8382 - loss: 0.3990 - val_accuracy: 0.8810 - val_loss: 0.3097 - learning_rate: 2.0000e-04\n",
            "Epoch 3/60\n",
            "\u001b[1m1189/1189\u001b[0m \u001b[32m━━━━━━━━━━━━━━━━━━━━\u001b[0m\u001b[37m\u001b[0m \u001b[1m4s\u001b[0m 3ms/step - accuracy: 0.8429 - loss: 0.3864 - val_accuracy: 0.8691 - val_loss: 0.3373 - learning_rate: 2.0000e-04\n",
            "Epoch 4/60\n",
            "\u001b[1m1189/1189\u001b[0m \u001b[32m━━━━━━━━━━━━━━━━━━━━\u001b[0m\u001b[37m\u001b[0m \u001b[1m3s\u001b[0m 3ms/step - accuracy: 0.8423 - loss: 0.3839 - val_accuracy: 0.8859 - val_loss: 0.3087 - learning_rate: 2.0000e-04\n",
            "Epoch 5/60\n",
            "\u001b[1m1189/1189\u001b[0m \u001b[32m━━━━━━━━━━━━━━━━━━━━\u001b[0m\u001b[37m\u001b[0m \u001b[1m7s\u001b[0m 4ms/step - accuracy: 0.8439 - loss: 0.3793 - val_accuracy: 0.8881 - val_loss: 0.3110 - learning_rate: 2.0000e-04\n",
            "Epoch 6/60\n",
            "\u001b[1m1189/1189\u001b[0m \u001b[32m━━━━━━━━━━━━━━━━━━━━\u001b[0m\u001b[37m\u001b[0m \u001b[1m3s\u001b[0m 3ms/step - accuracy: 0.8508 - loss: 0.3681 - val_accuracy: 0.8791 - val_loss: 0.3268 - learning_rate: 2.0000e-04\n",
            "Epoch 7/60\n",
            "\u001b[1m1189/1189\u001b[0m \u001b[32m━━━━━━━━━━━━━━━━━━━━\u001b[0m\u001b[37m\u001b[0m \u001b[1m5s\u001b[0m 3ms/step - accuracy: 0.8527 - loss: 0.3639 - val_accuracy: 0.8815 - val_loss: 0.3206 - learning_rate: 2.0000e-04\n",
            "Epoch 8/60\n",
            "\u001b[1m1189/1189\u001b[0m \u001b[32m━━━━━━━━━━━━━━━━━━━━\u001b[0m\u001b[37m\u001b[0m \u001b[1m6s\u001b[0m 4ms/step - accuracy: 0.8532 - loss: 0.3617 - val_accuracy: 0.8783 - val_loss: 0.3217 - learning_rate: 2.0000e-04\n",
            "Epoch 9/60\n",
            "\u001b[1m1189/1189\u001b[0m \u001b[32m━━━━━━━━━━━━━━━━━━━━\u001b[0m\u001b[37m\u001b[0m \u001b[1m4s\u001b[0m 3ms/step - accuracy: 0.8578 - loss: 0.3491 - val_accuracy: 0.8873 - val_loss: 0.3093 - learning_rate: 2.0000e-04\n",
            "Epoch 10/60\n",
            "\u001b[1m1189/1189\u001b[0m \u001b[32m━━━━━━━━━━━━━━━━━━━━\u001b[0m\u001b[37m\u001b[0m \u001b[1m3s\u001b[0m 3ms/step - accuracy: 0.8537 - loss: 0.3577 - val_accuracy: 0.8815 - val_loss: 0.3167 - learning_rate: 1.0000e-04\n",
            "Epoch 11/60\n",
            "\u001b[1m1189/1189\u001b[0m \u001b[32m━━━━━━━━━━━━━━━━━━━━\u001b[0m\u001b[37m\u001b[0m \u001b[1m7s\u001b[0m 4ms/step - accuracy: 0.8539 - loss: 0.3596 - val_accuracy: 0.8808 - val_loss: 0.3204 - learning_rate: 1.0000e-04\n",
            "Epoch 12/60\n",
            "\u001b[1m1189/1189\u001b[0m \u001b[32m━━━━━━━━━━━━━━━━━━━━\u001b[0m\u001b[37m\u001b[0m \u001b[1m3s\u001b[0m 3ms/step - accuracy: 0.8629 - loss: 0.3378 - val_accuracy: 0.8783 - val_loss: 0.3301 - learning_rate: 1.0000e-04\n",
            "Epoch 13/60\n",
            "\u001b[1m1189/1189\u001b[0m \u001b[32m━━━━━━━━━━━━━━━━━━━━\u001b[0m\u001b[37m\u001b[0m \u001b[1m5s\u001b[0m 2ms/step - accuracy: 0.8610 - loss: 0.3427 - val_accuracy: 0.8849 - val_loss: 0.3177 - learning_rate: 1.0000e-04\n",
            "Epoch 14/60\n",
            "\u001b[1m1189/1189\u001b[0m \u001b[32m━━━━━━━━━━━━━━━━━━━━\u001b[0m\u001b[37m\u001b[0m \u001b[1m7s\u001b[0m 4ms/step - accuracy: 0.8633 - loss: 0.3426 - val_accuracy: 0.8834 - val_loss: 0.3160 - learning_rate: 1.0000e-04\n",
            "Epoch 15/60\n",
            "\u001b[1m1189/1189\u001b[0m \u001b[32m━━━━━━━━━━━━━━━━━━━━\u001b[0m\u001b[37m\u001b[0m \u001b[1m4s\u001b[0m 3ms/step - accuracy: 0.8629 - loss: 0.3398 - val_accuracy: 0.8774 - val_loss: 0.3282 - learning_rate: 5.0000e-05\n",
            "Epoch 16/60\n",
            "\u001b[1m1189/1189\u001b[0m \u001b[32m━━━━━━━━━━━━━━━━━━━━\u001b[0m\u001b[37m\u001b[0m \u001b[1m6s\u001b[0m 3ms/step - accuracy: 0.8623 - loss: 0.3415 - val_accuracy: 0.8805 - val_loss: 0.3195 - learning_rate: 5.0000e-05\n",
            "Epoch 17/60\n",
            "\u001b[1m1189/1189\u001b[0m \u001b[32m━━━━━━━━━━━━━━━━━━━━\u001b[0m\u001b[37m\u001b[0m \u001b[1m5s\u001b[0m 3ms/step - accuracy: 0.8632 - loss: 0.3399 - val_accuracy: 0.8825 - val_loss: 0.3172 - learning_rate: 5.0000e-05\n",
            "Epoch 18/60\n",
            "\u001b[1m1189/1189\u001b[0m \u001b[32m━━━━━━━━━━━━━━━━━━━━\u001b[0m\u001b[37m\u001b[0m \u001b[1m3s\u001b[0m 3ms/step - accuracy: 0.8632 - loss: 0.3347 - val_accuracy: 0.8837 - val_loss: 0.3190 - learning_rate: 5.0000e-05\n",
            "Epoch 19/60\n",
            "\u001b[1m1189/1189\u001b[0m \u001b[32m━━━━━━━━━━━━━━━━━━━━\u001b[0m\u001b[37m\u001b[0m \u001b[1m4s\u001b[0m 3ms/step - accuracy: 0.8626 - loss: 0.3436 - val_accuracy: 0.8798 - val_loss: 0.3215 - learning_rate: 5.0000e-05\n",
            "Epoch 20/60\n",
            "\u001b[1m1189/1189\u001b[0m \u001b[32m━━━━━━━━━━━━━━━━━━━━\u001b[0m\u001b[37m\u001b[0m \u001b[1m5s\u001b[0m 4ms/step - accuracy: 0.8607 - loss: 0.3422 - val_accuracy: 0.8817 - val_loss: 0.3204 - learning_rate: 2.5000e-05\n",
            "Epoch 21/60\n",
            "\u001b[1m1189/1189\u001b[0m \u001b[32m━━━━━━━━━━━━━━━━━━━━\u001b[0m\u001b[37m\u001b[0m \u001b[1m3s\u001b[0m 3ms/step - accuracy: 0.8682 - loss: 0.3299 - val_accuracy: 0.8825 - val_loss: 0.3195 - learning_rate: 2.5000e-05\n",
            "Epoch 22/60\n",
            "\u001b[1m1189/1189\u001b[0m \u001b[32m━━━━━━━━━━━━━━━━━━━━\u001b[0m\u001b[37m\u001b[0m \u001b[1m5s\u001b[0m 3ms/step - accuracy: 0.8633 - loss: 0.3360 - val_accuracy: 0.8817 - val_loss: 0.3204 - learning_rate: 2.5000e-05\n",
            "Epoch 23/60\n",
            "\u001b[1m1189/1189\u001b[0m \u001b[32m━━━━━━━━━━━━━━━━━━━━\u001b[0m\u001b[37m\u001b[0m \u001b[1m6s\u001b[0m 4ms/step - accuracy: 0.8632 - loss: 0.3375 - val_accuracy: 0.8815 - val_loss: 0.3196 - learning_rate: 2.5000e-05\n",
            "Epoch 24/60\n",
            "\u001b[1m1189/1189\u001b[0m \u001b[32m━━━━━━━━━━━━━━━━━━━━\u001b[0m\u001b[37m\u001b[0m \u001b[1m4s\u001b[0m 3ms/step - accuracy: 0.8633 - loss: 0.3356 - val_accuracy: 0.8813 - val_loss: 0.3220 - learning_rate: 2.5000e-05\n",
            "Epoch 25/60\n",
            "\u001b[1m1189/1189\u001b[0m \u001b[32m━━━━━━━━━━━━━━━━━━━━\u001b[0m\u001b[37m\u001b[0m \u001b[1m6s\u001b[0m 3ms/step - accuracy: 0.8671 - loss: 0.3318 - val_accuracy: 0.8805 - val_loss: 0.3215 - learning_rate: 1.2500e-05\n",
            "Epoch 26/60\n",
            "\u001b[1m1189/1189\u001b[0m \u001b[32m━━━━━━━━━━━━━━━━━━━━\u001b[0m\u001b[37m\u001b[0m \u001b[1m4s\u001b[0m 3ms/step - accuracy: 0.8681 - loss: 0.3323 - val_accuracy: 0.8822 - val_loss: 0.3195 - learning_rate: 1.2500e-05\n",
            "Epoch 27/60\n",
            "\u001b[1m1189/1189\u001b[0m \u001b[32m━━━━━━━━━━━━━━━━━━━━\u001b[0m\u001b[37m\u001b[0m \u001b[1m3s\u001b[0m 3ms/step - accuracy: 0.8658 - loss: 0.3302 - val_accuracy: 0.8808 - val_loss: 0.3221 - learning_rate: 1.2500e-05\n",
            "Epoch 28/60\n",
            "\u001b[1m1189/1189\u001b[0m \u001b[32m━━━━━━━━━━━━━━━━━━━━\u001b[0m\u001b[37m\u001b[0m \u001b[1m6s\u001b[0m 4ms/step - accuracy: 0.8647 - loss: 0.3377 - val_accuracy: 0.8817 - val_loss: 0.3207 - learning_rate: 1.2500e-05\n",
            "Epoch 29/60\n",
            "\u001b[1m1189/1189\u001b[0m \u001b[32m━━━━━━━━━━━━━━━━━━━━\u001b[0m\u001b[37m\u001b[0m \u001b[1m4s\u001b[0m 3ms/step - accuracy: 0.8665 - loss: 0.3309 - val_accuracy: 0.8810 - val_loss: 0.3226 - learning_rate: 1.2500e-05\n",
            "Epoch 30/60\n",
            "\u001b[1m1189/1189\u001b[0m \u001b[32m━━━━━━━━━━━━━━━━━━━━\u001b[0m\u001b[37m\u001b[0m \u001b[1m3s\u001b[0m 3ms/step - accuracy: 0.8605 - loss: 0.3381 - val_accuracy: 0.8820 - val_loss: 0.3205 - learning_rate: 6.2500e-06\n",
            "Epoch 31/60\n",
            "\u001b[1m1189/1189\u001b[0m \u001b[32m━━━━━━━━━━━━━━━━━━━━\u001b[0m\u001b[37m\u001b[0m \u001b[1m4s\u001b[0m 3ms/step - accuracy: 0.8632 - loss: 0.3368 - val_accuracy: 0.8822 - val_loss: 0.3210 - learning_rate: 6.2500e-06\n",
            "Epoch 32/60\n",
            "\u001b[1m1189/1189\u001b[0m \u001b[32m━━━━━━━━━━━━━━━━━━━━\u001b[0m\u001b[37m\u001b[0m \u001b[1m5s\u001b[0m 3ms/step - accuracy: 0.8632 - loss: 0.3372 - val_accuracy: 0.8820 - val_loss: 0.3201 - learning_rate: 6.2500e-06\n",
            "Epoch 33/60\n",
            "\u001b[1m1189/1189\u001b[0m \u001b[32m━━━━━━━━━━━━━━━━━━━━\u001b[0m\u001b[37m\u001b[0m \u001b[1m5s\u001b[0m 3ms/step - accuracy: 0.8646 - loss: 0.3330 - val_accuracy: 0.8815 - val_loss: 0.3220 - learning_rate: 6.2500e-06\n",
            "Epoch 34/60\n",
            "\u001b[1m1189/1189\u001b[0m \u001b[32m━━━━━━━━━━━━━━━━━━━━\u001b[0m\u001b[37m\u001b[0m \u001b[1m6s\u001b[0m 4ms/step - accuracy: 0.8660 - loss: 0.3326 - val_accuracy: 0.8817 - val_loss: 0.3208 - learning_rate: 6.2500e-06\n",
            "Epoch 35/60\n",
            "\u001b[1m1189/1189\u001b[0m \u001b[32m━━━━━━━━━━━━━━━━━━━━\u001b[0m\u001b[37m\u001b[0m \u001b[1m3s\u001b[0m 3ms/step - accuracy: 0.8651 - loss: 0.3359 - val_accuracy: 0.8825 - val_loss: 0.3211 - learning_rate: 3.1250e-06\n",
            "Epoch 36/60\n",
            "\u001b[1m1189/1189\u001b[0m \u001b[32m━━━━━━━━━━━━━━━━━━━━\u001b[0m\u001b[37m\u001b[0m \u001b[1m3s\u001b[0m 3ms/step - accuracy: 0.8678 - loss: 0.3292 - val_accuracy: 0.8817 - val_loss: 0.3215 - learning_rate: 3.1250e-06\n",
            "Epoch 37/60\n",
            "\u001b[1m1189/1189\u001b[0m \u001b[32m━━━━━━━━━━━━━━━━━━━━\u001b[0m\u001b[37m\u001b[0m \u001b[1m7s\u001b[0m 4ms/step - accuracy: 0.8644 - loss: 0.3326 - val_accuracy: 0.8817 - val_loss: 0.3216 - learning_rate: 3.1250e-06\n",
            "Epoch 38/60\n",
            "\u001b[1m1189/1189\u001b[0m \u001b[32m━━━━━━━━━━━━━━━━━━━━\u001b[0m\u001b[37m\u001b[0m \u001b[1m8s\u001b[0m 3ms/step - accuracy: 0.8645 - loss: 0.3308 - val_accuracy: 0.8815 - val_loss: 0.3215 - learning_rate: 3.1250e-06\n",
            "Epoch 39/60\n",
            "\u001b[1m1189/1189\u001b[0m \u001b[32m━━━━━━━━━━━━━━━━━━━━\u001b[0m\u001b[37m\u001b[0m \u001b[1m6s\u001b[0m 4ms/step - accuracy: 0.8660 - loss: 0.3337 - val_accuracy: 0.8815 - val_loss: 0.3213 - learning_rate: 3.1250e-06\n",
            "Epoch 40/60\n",
            "\u001b[1m1189/1189\u001b[0m \u001b[32m━━━━━━━━━━━━━━━━━━━━\u001b[0m\u001b[37m\u001b[0m \u001b[1m3s\u001b[0m 3ms/step - accuracy: 0.8653 - loss: 0.3323 - val_accuracy: 0.8815 - val_loss: 0.3215 - learning_rate: 1.5625e-06\n",
            "Epoch 41/60\n",
            "\u001b[1m1189/1189\u001b[0m \u001b[32m━━━━━━━━━━━━━━━━━━━━\u001b[0m\u001b[37m\u001b[0m \u001b[1m3s\u001b[0m 3ms/step - accuracy: 0.8693 - loss: 0.3282 - val_accuracy: 0.8817 - val_loss: 0.3217 - learning_rate: 1.5625e-06\n",
            "Epoch 42/60\n",
            "\u001b[1m1189/1189\u001b[0m \u001b[32m━━━━━━━━━━━━━━━━━━━━\u001b[0m\u001b[37m\u001b[0m \u001b[1m6s\u001b[0m 4ms/step - accuracy: 0.8667 - loss: 0.3282 - val_accuracy: 0.8817 - val_loss: 0.3218 - learning_rate: 1.5625e-06\n",
            "Epoch 43/60\n",
            "\u001b[1m1189/1189\u001b[0m \u001b[32m━━━━━━━━━━━━━━━━━━━━\u001b[0m\u001b[37m\u001b[0m \u001b[1m3s\u001b[0m 3ms/step - accuracy: 0.8659 - loss: 0.3367 - val_accuracy: 0.8815 - val_loss: 0.3217 - learning_rate: 1.5625e-06\n",
            "Epoch 44/60\n",
            "\u001b[1m1189/1189\u001b[0m \u001b[32m━━━━━━━━━━━━━━━━━━━━\u001b[0m\u001b[37m\u001b[0m \u001b[1m5s\u001b[0m 3ms/step - accuracy: 0.8670 - loss: 0.3297 - val_accuracy: 0.8817 - val_loss: 0.3217 - learning_rate: 1.5625e-06\n"
          ]
        }
      ]
    },
    {
      "cell_type": "code",
      "source": [
        "# Evaluate the model on the test set\n",
        "test_loss, test_accuracy = NNmodel.evaluate(XTest, yTest)\n",
        "print(f\"Test Accuracy: {test_accuracy * 100:.2f}%\")"
      ],
      "metadata": {
        "id": "5uuI40htGZd9",
        "colab": {
          "base_uri": "https://localhost:8080/"
        },
        "outputId": "8be55fe4-44b4-4f4d-f039-cc37890ae0ae"
      },
      "execution_count": 192,
      "outputs": [
        {
          "output_type": "stream",
          "name": "stdout",
          "text": [
            "\u001b[1m129/129\u001b[0m \u001b[32m━━━━━━━━━━━━━━━━━━━━\u001b[0m\u001b[37m\u001b[0m \u001b[1m0s\u001b[0m 2ms/step - accuracy: 0.8862 - loss: 0.3077\n",
            "Test Accuracy: 88.64%\n"
          ]
        }
      ]
    },
    {
      "cell_type": "code",
      "source": [
        "# Get predictions for the training set\n",
        "yTrainPred = (NNmodel.predict(XTrain) > 0.5).astype(int)\n",
        "yTrainActual = yTrain.values\n",
        "# Get predictions for the testing set\n",
        "yPred = (NNmodel.predict(XTest) > 0.5).astype(int)"
      ],
      "metadata": {
        "id": "SUQ8UmzxGnYr",
        "colab": {
          "base_uri": "https://localhost:8080/"
        },
        "outputId": "c4546452-5d33-4740-bcd5-a43f350e30b6"
      },
      "execution_count": 193,
      "outputs": [
        {
          "output_type": "stream",
          "name": "stdout",
          "text": [
            "\u001b[1m1189/1189\u001b[0m \u001b[32m━━━━━━━━━━━━━━━━━━━━\u001b[0m\u001b[37m\u001b[0m \u001b[1m2s\u001b[0m 2ms/step\n",
            "\u001b[1m129/129\u001b[0m \u001b[32m━━━━━━━━━━━━━━━━━━━━\u001b[0m\u001b[37m\u001b[0m \u001b[1m0s\u001b[0m 1ms/step\n"
          ]
        }
      ]
    },
    {
      "cell_type": "code",
      "source": [
        "# Training vs Testing accuracy\n",
        "trainAcc = accuracy_score(yTrainActual, yTrainPred)\n",
        "testAcc = accuracy_score(yTest, yPred)"
      ],
      "metadata": {
        "id": "mPXP22LIGrnX"
      },
      "execution_count": 194,
      "outputs": []
    },
    {
      "cell_type": "code",
      "source": [
        "print(f\"Training Set Accuracy: {trainAcc * 100:.4f}%\")\n",
        "print(f\"Testing Set Accuracy: {testAcc * 100:.4f}%\")"
      ],
      "metadata": {
        "id": "dxDh-iFQGtvi",
        "colab": {
          "base_uri": "https://localhost:8080/"
        },
        "outputId": "1fbd9f70-46cc-47b0-9444-41ec67ec81e3"
      },
      "execution_count": 195,
      "outputs": [
        {
          "output_type": "stream",
          "name": "stdout",
          "text": [
            "Training Set Accuracy: 85.0354%\n",
            "Testing Set Accuracy: 88.6353%\n"
          ]
        }
      ]
    },
    {
      "cell_type": "code",
      "source": [
        "# Classification report for testing set\n",
        "print(\"Classification Report (Testing Set):\")\n",
        "print(classification_report(yTest, yPred))"
      ],
      "metadata": {
        "id": "NrwpIwc9Gwg0",
        "colab": {
          "base_uri": "https://localhost:8080/"
        },
        "outputId": "f88adc07-c140-40e8-ae85-0077cc119a1c"
      },
      "execution_count": 196,
      "outputs": [
        {
          "output_type": "stream",
          "name": "stdout",
          "text": [
            "Classification Report (Testing Set):\n",
            "              precision    recall  f1-score   support\n",
            "\n",
            "           0       0.92      0.95      0.94      3630\n",
            "           1       0.53      0.38      0.44       488\n",
            "\n",
            "    accuracy                           0.89      4118\n",
            "   macro avg       0.72      0.67      0.69      4118\n",
            "weighted avg       0.87      0.89      0.88      4118\n",
            "\n"
          ]
        }
      ]
    },
    {
      "cell_type": "code",
      "source": [
        "# ROC-AUC\n",
        "print(f\"ROC-AUC Score (Testing Set): {roc_auc_score(yTest, NNmodel.predict(XTest))}\")"
      ],
      "metadata": {
        "id": "KpqK4zOMG1WH",
        "colab": {
          "base_uri": "https://localhost:8080/"
        },
        "outputId": "5185d9a2-d245-4065-873f-2eb0e779cfb9"
      },
      "execution_count": 197,
      "outputs": [
        {
          "output_type": "stream",
          "name": "stdout",
          "text": [
            "\u001b[1m129/129\u001b[0m \u001b[32m━━━━━━━━━━━━━━━━━━━━\u001b[0m\u001b[37m\u001b[0m \u001b[1m0s\u001b[0m 1ms/step\n",
            "ROC-AUC Score (Testing Set): 0.783657645757124\n"
          ]
        }
      ]
    },
    {
      "cell_type": "code",
      "execution_count": 198,
      "metadata": {
        "id": "7G1odaULKZ_b",
        "colab": {
          "base_uri": "https://localhost:8080/",
          "height": 489
        },
        "outputId": "62bc16d4-185d-415a-a543-76047ec07059"
      },
      "outputs": [
        {
          "output_type": "display_data",
          "data": {
            "text/plain": [
              "<Figure size 800x600 with 0 Axes>"
            ]
          },
          "metadata": {}
        },
        {
          "output_type": "display_data",
          "data": {
            "text/plain": [
              "<Figure size 640x480 with 2 Axes>"
            ],
            "image/png": "[encoded data removed]"
          },
          "metadata": {}
        }
      ],
      "source": [
        "# Confusion matrix\n",
        "cm = confusion_matrix(yTest, yPred)\n",
        "disp = ConfusionMatrixDisplay(confusion_matrix=cm, display_labels=[\"Class 0\", \"Class 1\"])\n",
        "plt.figure(figsize=(8, 6))\n",
        "disp.plot(cmap=plt.cm.Purples)\n",
        "plt.title(\"Confusion Matrix\")\n",
        "plt.show()"
      ]
    }
  ],
  "metadata": {
    "colab": {
      "provenance": [],
      "authorship_tag": "ABX9TyOr7suyxx5YTWGViEUdb8h3",
      "include_colab_link": true
    },
    "kernelspec": {
      "display_name": "Python 3",
      "name": "python3"
    },
    "language_info": {
      "name": "python"
    }
  },
  "nbformat": 4,
  "nbformat_minor": 0
}