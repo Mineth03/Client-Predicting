{
  "cells": [
    {
      "cell_type": "markdown",
      "metadata": {
        "id": "view-in-github",
        "colab_type": "text"
      },
      "source": [
        "<a href=\"https://colab.research.google.com/github/Mineth03/Client-Predicting/blob/Model_Random_Forest/Models/RandomForestModel.ipynb\" target=\"_parent\"><img src=\"https://colab.research.google.com/assets/colab-badge.svg\" alt=\"Open In Colab\"/></a>"
      ]
    },
    {
      "cell_type": "code",
      "execution_count": 3,
      "metadata": {
        "colab": {
          "base_uri": "https://localhost:8080/",
          "height": 1000
        },
        "id": "YLZcrByKn9zS",
        "outputId": "8a27afd1-1f90-4820-e677-af1f119cda7a"
      },
      "outputs": [
        {
          "output_type": "stream",
          "name": "stderr",
          "text": [
            "/usr/local/lib/python3.10/dist-packages/sklearn/base.py:474: FutureWarning: `BaseEstimator._validate_data` is deprecated in 1.6 and will be removed in 1.7. Use `sklearn.utils.validation.validate_data` instead. This function becomes public and is part of the scikit-learn developer API.\n",
            "  warnings.warn(\n",
            "/usr/local/lib/python3.10/dist-packages/sklearn/utils/_tags.py:354: FutureWarning: The SMOTE or classes from which it inherits use `_get_tags` and `_more_tags`. Please define the `__sklearn_tags__` method, or inherit from `sklearn.base.BaseEstimator` and/or other appropriate mixins such as `sklearn.base.TransformerMixin`, `sklearn.base.ClassifierMixin`, `sklearn.base.RegressorMixin`, and `sklearn.base.OutlierMixin`. From scikit-learn 1.7, not defining `__sklearn_tags__` will raise an error.\n",
            "  warnings.warn(\n"
          ]
        },
        {
          "output_type": "stream",
          "name": "stdout",
          "text": [
            "Training Set Report:\n",
            "               precision    recall  f1-score   support\n",
            "\n",
            "           0       0.97      0.98      0.98     27516\n",
            "           1       0.98      0.97      0.98     27516\n",
            "\n",
            "    accuracy                           0.98     55032\n",
            "   macro avg       0.98      0.98      0.98     55032\n",
            "weighted avg       0.98      0.98      0.98     55032\n",
            "\n",
            "\n",
            "Testing Set Report:\n",
            "               precision    recall  f1-score   support\n",
            "\n",
            "           0       0.91      0.93      0.92      6879\n",
            "           1       0.92      0.90      0.91      6277\n",
            "\n",
            "    accuracy                           0.91     13156\n",
            "   macro avg       0.91      0.91      0.91     13156\n",
            "weighted avg       0.91      0.91      0.91     13156\n",
            "\n",
            "ROC-AUC Score (Test Set): 0.96359468917217 \n",
            "\n"
          ]
        },
        {
          "output_type": "display_data",
          "data": {
            "text/plain": [
              "<Figure size 800x600 with 1 Axes>"
            ],
            "image/png": "[encoded data removed]"
          },
          "metadata": {}
        }
      ],
      "source": [
        "from sklearn.model_selection import train_test_split\n",
        "from sklearn.ensemble import RandomForestClassifier\n",
        "from sklearn.metrics import classification_report\n",
        "from imblearn.over_sampling import SMOTE\n",
        "import pandas as pd\n",
        "import matplotlib.pyplot as plt\n",
        "import seaborn as sns\n",
        "from sklearn.metrics import confusion_matrix, roc_auc_score\n",
        "\n",
        "# Load the dataset\n",
        "data = pd.read_csv(\"Balanced.csv\")\n",
        "\n",
        "# Define X and y\n",
        "X = data.drop(columns=[\"y\"])\n",
        "y = data[\"y\"]\n",
        "\n",
        "# Split the dataset into training (80%) and testing (20%) sets first\n",
        "X_train, X_test, y_train, y_test = train_test_split(X, y, test_size=0.2, random_state=42, stratify=y)\n",
        "\n",
        "# Apply SMOTE only to the training set to avoid data leakage\n",
        "smote = SMOTE(random_state=42)\n",
        "X_train_smote, y_train_smote = smote.fit_resample(X_train, y_train)\n",
        "\n",
        "# Initialize the Random Forest model\n",
        "rf_model = RandomForestClassifier(random_state=42, n_estimators=100, max_depth=20)\n",
        "\n",
        "# Train the model on the SMOTE-resampled training set\n",
        "rf_model.fit(X_train_smote, y_train_smote)\n",
        "\n",
        "# Predictions for training and testing sets\n",
        "y_train_pred = rf_model.predict(X_train_smote)\n",
        "y_test_pred = rf_model.predict(X_test)\n",
        "\n",
        "# Generate classification reports\n",
        "train_report = classification_report(y_train_smote, y_train_pred)\n",
        "test_report = classification_report(y_test, y_test_pred)\n",
        "\n",
        "print(\"Training Set Report:\\n\", train_report)\n",
        "print(\"\\nTesting Set Report:\\n\", test_report)\n",
        "\n",
        "# ROC-AUC Score\n",
        "print(\"ROC-AUC Score (Test Set):\", roc_auc_score(y_test, rf_model.predict_proba(X_test)[:, 1]), \"\\n\")\n",
        "\n",
        "# Generate confusion matrix for the test set\n",
        "cm = confusion_matrix(y_test, y_test_pred)\n",
        "\n",
        "# Create a heatmap to visualize the confusion matrix\n",
        "plt.figure(figsize=(8, 6))\n",
        "sns.heatmap(cm, annot=True, fmt='d', cmap='Purples', cbar=False,\n",
        "            xticklabels=['Class 0', 'Class 1'], yticklabels=['Class 0', 'Class 1'])\n",
        "\n",
        "# Add labels and title\n",
        "plt.title('Confusion Matrix')\n",
        "plt.xlabel('Predicted Label')\n",
        "plt.ylabel('True Label')\n",
        "\n",
        "# Show the plot\n",
        "plt.show()"
      ]
    }
  ],
  "metadata": {
    "colab": {
      "provenance": [],
      "authorship_tag": "ABX9TyNQVPyyCJ6acxripKU3L4/p",
      "include_colab_link": true
    },
    "kernelspec": {
      "display_name": "Python 3",
      "name": "python3"
    },
    "language_info": {
      "name": "python"
    }
  },
  "nbformat": 4,
  "nbformat_minor": 0
}