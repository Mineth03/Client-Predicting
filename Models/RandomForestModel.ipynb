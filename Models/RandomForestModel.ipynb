{
  "nbformat": 4,
  "nbformat_minor": 0,
  "metadata": {
    "colab": {
      "provenance": [],
      "authorship_tag": "ABX9TyNdIaileNFblTi7Sc0MYd+Q",
      "include_colab_link": true
    },
    "kernelspec": {
      "name": "python3",
      "display_name": "Python 3"
    },
    "language_info": {
      "name": "python"
    }
  },
  "cells": [
    {
      "cell_type": "markdown",
      "metadata": {
        "id": "view-in-github",
        "colab_type": "text"
      },
      "source": [
        "<a href=\"https://colab.research.google.com/github/Mineth03/Client-Predicting/blob/Preprocessing/Models/RandomForestModel.ipynb\" target=\"_parent\"><img src=\"https://colab.research.google.com/assets/colab-badge.svg\" alt=\"Open In Colab\"/></a>"
      ]
    },
    {
      "cell_type": "code",
      "execution_count": 16,
      "metadata": {
        "colab": {
          "base_uri": "https://localhost:8080/",
          "height": 1000
        },
        "id": "YLZcrByKn9zS",
        "outputId": "1b183ab0-e746-42bd-b700-e00c502ea49a"
      },
      "outputs": [
        {
          "output_type": "stream",
          "name": "stderr",
          "text": [
            "/usr/local/lib/python3.10/dist-packages/sklearn/base.py:474: FutureWarning: `BaseEstimator._validate_data` is deprecated in 1.6 and will be removed in 1.7. Use `sklearn.utils.validation.validate_data` instead. This function becomes public and is part of the scikit-learn developer API.\n",
            "  warnings.warn(\n",
            "/usr/local/lib/python3.10/dist-packages/sklearn/utils/_tags.py:354: FutureWarning: The SMOTE or classes from which it inherits use `_get_tags` and `_more_tags`. Please define the `__sklearn_tags__` method, or inherit from `sklearn.base.BaseEstimator` and/or other appropriate mixins such as `sklearn.base.TransformerMixin`, `sklearn.base.ClassifierMixin`, `sklearn.base.RegressorMixin`, and `sklearn.base.OutlierMixin`. From scikit-learn 1.7, not defining `__sklearn_tags__` will raise an error.\n",
            "  warnings.warn(\n"
          ]
        },
        {
          "output_type": "stream",
          "name": "stdout",
          "text": [
            "Training Set Report:\n",
            "               precision    recall  f1-score   support\n",
            "\n",
            "           0       1.00      1.00      1.00     29229\n",
            "           1       1.00      1.00      1.00     29230\n",
            "\n",
            "    accuracy                           1.00     58459\n",
            "   macro avg       1.00      1.00      1.00     58459\n",
            "weighted avg       1.00      1.00      1.00     58459\n",
            "\n",
            "\n",
            "Testing Set Report:\n",
            "               precision    recall  f1-score   support\n",
            "\n",
            "           0       0.93      0.93      0.93      7308\n",
            "           1       0.93      0.93      0.93      7307\n",
            "\n",
            "    accuracy                           0.93     14615\n",
            "   macro avg       0.93      0.93      0.93     14615\n",
            "weighted avg       0.93      0.93      0.93     14615\n",
            "\n",
            "ROC-AUC Score (Test Set): 0.9751902806083257 \n",
            "\n"
          ]
        },
        {
          "output_type": "display_data",
          "data": {
            "text/plain": [
              "<Figure size 800x600 with 1 Axes>"
            ],
            "image/png": "[encoded data removed]"
          },
          "metadata": {}
        }
      ],
      "source": [
        "from sklearn.model_selection import train_test_split\n",
        "from sklearn.ensemble import RandomForestClassifier\n",
        "from sklearn.metrics import classification_report\n",
        "from imblearn.over_sampling import SMOTE\n",
        "import pandas as pd\n",
        "import matplotlib.pyplot as plt\n",
        "import seaborn as sns\n",
        "from sklearn.metrics import confusion_matrix, roc_auc_score\n",
        "\n",
        "# Load the dataset\n",
        "data = pd.read_csv(\"Encoded.csv\")\n",
        "\n",
        "# Define X and y\n",
        "X = data.drop(columns=[\"y\"])\n",
        "y = data[\"y\"]\n",
        "\n",
        "# Apply SMOTE to the entire dataset before splitting\n",
        "smote = SMOTE(random_state=42)\n",
        "X_smote, y_smote = smote.fit_resample(X, y)\n",
        "\n",
        "# Split the SMOTE-resampled dataset into training (80%) and testing (20%) sets\n",
        "X_train, X_test, y_train, y_test = train_test_split(X_smote, y_smote, test_size=0.2, random_state=42, stratify=y_smote)\n",
        "\n",
        "# Initialize the Random Forest model\n",
        "rf_model = RandomForestClassifier(random_state=42, n_estimators=100)\n",
        "\n",
        "# Train the model on the SMOTE-resampled training set\n",
        "rf_model.fit(X_train, y_train)\n",
        "\n",
        "# Predictions for training and testing sets\n",
        "y_train_pred = rf_model.predict(X_train)\n",
        "y_test_pred = rf_model.predict(X_test)\n",
        "\n",
        "# Generate classification reports\n",
        "train_report = classification_report(y_train, y_train_pred)\n",
        "test_report = classification_report(y_test, y_test_pred)\n",
        "\n",
        "print(\"Training Set Report:\\n\", train_report)\n",
        "print(\"\\nTesting Set Report:\\n\", test_report)\n",
        "\n",
        "# ROC-AUC Score\n",
        "print(\"ROC-AUC Score (Test Set):\", roc_auc_score(y_test, rf_model.predict_proba(X_test)[:, 1]), \"\\n\")\n",
        "\n",
        "# Generate confusion matrix for the test set\n",
        "cm = confusion_matrix(y_test, y_test_pred)\n",
        "\n",
        "# Create a heatmap to visualize the confusion matrix\n",
        "plt.figure(figsize=(8, 6))\n",
        "sns.heatmap(cm, annot=True, fmt='d', cmap='Purples', cbar=False,\n",
        "            xticklabels=['Class 0', 'Class 1'], yticklabels=['Class 0', 'Class 1'])\n",
        "\n",
        "# Add labels and title\n",
        "plt.title('Confusion Matrix')\n",
        "plt.xlabel('Predicted Label')\n",
        "plt.ylabel('True Label')\n",
        "\n",
        "# Show the plot\n",
        "plt.show()"
      ]
    }
  ]
}